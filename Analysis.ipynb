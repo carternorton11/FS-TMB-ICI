{
 "cells": [
  {
   "cell_type": "code",
   "execution_count": 127,
   "metadata": {},
   "outputs": [],
   "source": [
    "import pandas as pd\n",
    "import numpy as np\n",
    "import seaborn as sb"
   ]
  },
  {
   "cell_type": "code",
   "execution_count": 128,
   "metadata": {},
   "outputs": [],
   "source": [
    "#Load in Combined data\n",
    "data = pd.read_csv(\"/Users/carternorton/Desktop/FIB_UM_UU_Combined NoID.csv\", index_col=0)"
   ]
  },
  {
   "cell_type": "code",
   "execution_count": 129,
   "metadata": {},
   "outputs": [
    {
     "name": "stdout",
     "output_type": "stream",
     "text": [
      "Index(['Diagnosis', 'Specific Diagnosis', 'NGS (1: F1, 2: Caris, 3: Tempus)',\n",
      "       'Fsindel', 'TMB', 'MS MS (0: MSS, 1: MSI)', 'Age at Tx',\n",
      "       'Sex (1:M, 2:F)',\n",
      "       'Race (1: White, 2: Black, 3: Hispanic, 4: Asian, 5: others/unknown)',\n",
      "       'Tx (1: Nivolumab, 2: Pembrolizumab, 3: Atezolizumab, 4: IPI + NIVO--> NIVO, 5: Ipi+Pembro)',\n",
      "       'ECOG', '# of previous Sys Tx ', 'Date_of_First_Dose',\n",
      "       'Date_Of_Last_Dose', '#ICI doses',\n",
      "       '12th week response (0:CMR/CR, 1:PMR/PR, 2:CSD, 3:SMD/SD, 4:PMD/PD), CMR (complete metabolic response by PET))',\n",
      "       'PFS (0:no, 1: yes)', 'PFS Date', 'OS (0: Alive, 1: Expired/Hospice)',\n",
      "       '0S Date or last contact', 'Comments', 'Unnamed: 22', 'Unnamed: 23',\n",
      "       'Unnamed: 24', 'Unnamed: 25', 'Unnamed: 26', 'Unnamed: 27',\n",
      "       'Unnamed: 28', 'Unnamed: 29', 'Unnamed: 30', 'Unnamed: 31',\n",
      "       'Unnamed: 32', 'Unnamed: 33', 'Unnamed: 34', 'Unnamed: 35',\n",
      "       'Unnamed: 36', 'Unnamed: 37', 'Comments.1'],\n",
      "      dtype='object')\n"
     ]
    }
   ],
   "source": [
    "print(data.columns)"
   ]
  },
  {
   "cell_type": "code",
   "execution_count": 130,
   "metadata": {},
   "outputs": [
    {
     "name": "stdout",
     "output_type": "stream",
     "text": [
      "2    0.542453\n",
      "4    0.250000\n",
      "1    0.183962\n",
      "3    0.023585\n",
      "Name: tx, dtype: float64\n"
     ]
    }
   ],
   "source": [
    "data[\"tx\"] = data[\"Tx (1: Nivolumab, 2: Pembrolizumab, 3: Atezolizumab, 4: IPI + NIVO--> NIVO, 5: Ipi+Pembro)\"]\n",
    "print(data[\"tx\"].value_counts(normalize=True))"
   ]
  },
  {
   "cell_type": "code",
   "execution_count": 131,
   "metadata": {},
   "outputs": [
    {
     "name": "stdout",
     "output_type": "stream",
     "text": [
      "4    0.476415\n",
      "3    0.250000\n",
      "1    0.146226\n",
      "2    0.094340\n",
      "0    0.033019\n",
      "Name: 12_week_response, dtype: float64\n",
      "0     0.547170\n",
      "1     0.287736\n",
      "2     0.080189\n",
      "3     0.037736\n",
      "18    0.009434\n",
      "4     0.009434\n",
      "15    0.004717\n",
      "17    0.004717\n",
      "26    0.004717\n",
      "5     0.004717\n",
      "21    0.004717\n",
      "10    0.004717\n",
      "Name: Fsindel, dtype: float64\n"
     ]
    }
   ],
   "source": [
    "#Let's print a summary of \"12th week response\"\n",
    "data[\"12_week_response\"] = data[\"12th week response (0:CMR/CR, 1:PMR/PR, 2:CSD, 3:SMD/SD, 4:PMD/PD), CMR (complete metabolic response by PET))\"]\n",
    "print(data[\"12_week_response\"].value_counts(normalize=True))\n",
    "print(data[\"Fsindel\"].value_counts(normalize=True))\n"
   ]
  },
  {
   "cell_type": "code",
   "execution_count": 132,
   "metadata": {},
   "outputs": [],
   "source": [
    "### REFORMAT DATA ###\n",
    "#Let's replace \"0\" and \"1\" with \"response\" in the 12_week_response column in data\n",
    "data[\"12_week_response\"] = data[\"12_week_response\"].replace([0,1], \"response\")\n",
    "\n",
    "#Let's replace \"2\", \"3\", and \"4\" with \"no_response\" in the 12_week_response column in data\n",
    "data[\"12_week_response\"] = data[\"12_week_response\"].replace([2,3,4], \"no_response\")\n",
    "\n",
    "#Let's replace all indel values > 0 with \"1\" in the Fsindel column in data\n",
    "data[\"Fsindel\"] = data[\"Fsindel\"].replace([1,2,3,4,5,6,7,8,9,10,11,12,13,14,15,17,18,21,26], 1)\n",
    "\n",
    "#Let's replace \n",
    "\n",
    "#Let's replace all tx values != 4 with \"mono\" and 4 with \"dual\" in the tx column in data\n",
    "data[\"tx\"] = data[\"tx\"].replace([1,2,3,5], \"mono\")\n",
    "data[\"tx\"] = data[\"tx\"].replace(4, \"dual\")\n",
    "\n",
    "#Let's replace > 0 in '# of previous Sys Tx ' with \"any\" and 0 with \"none\" in the '# of previous Sys Tx ' column in data\n",
    "data[\"full_previous_sys_tx\"] = data[\"# of previous Sys Tx \"]\n",
    "data[\"# of previous Sys Tx \"] = data[\"# of previous Sys Tx \"].replace([1,2,3,4,5,6,7,8,9,10], \"yes\")\n",
    "data[\"# of previous Sys Tx \"] = data[\"# of previous Sys Tx \"].replace(0, \"no\")\n",
    "\n",
    "#If 'TMB' is less than 10, replace with TMB-L, otherwise replace with TMB-H\n",
    "for patient in data.index:\n",
    "    if data.loc[patient, \"TMB\"] == \"<10\":\n",
    "        data.loc[patient, \"TMB\"] = \"TMB-L\"\n",
    "    elif float(data.loc[patient, \"TMB\"]) >= 10:\n",
    "        data.loc[patient, \"TMB\"] = \"TMB-H\"\n",
    "    else:\n",
    "        data.loc[patient, \"TMB\"] = \"TMB-L\"\n",
    "\n",
    "\n"
   ]
  },
  {
   "cell_type": "code",
   "execution_count": 205,
   "metadata": {},
   "outputs": [
    {
     "name": "stdout",
     "output_type": "stream",
     "text": [
      "yes    147\n",
      "no      65\n",
      "Name: # of previous Sys Tx , dtype: int64\n"
     ]
    }
   ],
   "source": [
    "### Generate Counts ###\n",
    "print(data[\"# of previous Sys Tx \"].value_counts())"
   ]
  },
  {
   "cell_type": "code",
   "execution_count": 170,
   "metadata": {},
   "outputs": [
    {
     "name": "stdout",
     "output_type": "stream",
     "text": [
      "P value between Fsindel -+ PFS time is:  0.4724\n",
      "median PFS length for FS-A:  4.029605263157896\n",
      "median PFS length for FS-P:  4.802631578947369\n",
      "P value between Fsindel -+ OS time is:  0.7261\n",
      "median OS length for FS-A:  10.263157894736842\n",
      "median OS length for FS-P:  9.983552631578949\n",
      "P value between TMB L/H PFS time is:  0.0015\n",
      "median PFS length for TMB-L:  3.4539473684210527\n",
      "median PFS length for TMB-H:  7.960526315789474\n",
      "P value between TMB L/H OS time is:  0.2851\n",
      "median OS length for TMB-L:  9.342105263157896\n",
      "median OS length for TMB-H:  11.513157894736842\n",
      "P value between mono/dual tx PFS time is:  0.1025\n",
      "median PFS length for mono tx is:  4.111842105263158\n",
      "median PFS length for dual tx is: 5.921052631578948\n",
      "P value between mono/dual tx OS time is:  0.9566\n",
      "median OS length for mono tx is:  10.328947368421053\n",
      "median OS length for dual tx is: 9.046052631578949\n",
      "P value between previous sys tx PFS time is:  0.0003\n",
      "median PFS length for no previous tx is:  9.210526315789474\n",
      "median PFS length for previous tx is:,  3.4539473684210527\n",
      "P value between previous sys tx OS time is:  0.0001\n",
      "median OS length for no previous tx is:  14.013157894736842\n",
      "median OS length for previous tx is:,  8.289473684210527\n"
     ]
    }
   ],
   "source": [
    "### T Tests ###\n",
    "\n",
    "#Let's convert 'dates' to datetime\n",
    "data['Date_of_First_Dose'] = pd.to_datetime(data[\"Date_of_First_Dose\"])\n",
    "data['PFS Date'] = pd.to_datetime(data[\"PFS Date\"])\n",
    "data[\"0S Date or last contact\"] = pd.to_datetime(data[\"0S Date or last contact\"])\n",
    "data[\"Treatment_Length\"] = (data[\"PFS Date\"] - data[\"Date_of_First_Dose\"]).dt.days / 30.4\n",
    "data[\"OS_Length\"] = (data[\"0S Date or last contact\"] - data[\"Date_of_First_Dose\"]).dt.days / 30.4\n",
    "\n",
    "#Let's do t test of treatment length and Fsindel\n",
    "from scipy.stats import ttest_ind\n",
    "stat, p = (ttest_ind( data[data[\"Fsindel\"] == 0][\"Treatment_Length\"], data[data[\"Fsindel\"] == 1][\"Treatment_Length\"], equal_var=False))\n",
    "p = round(p,4)\n",
    "print(\"P value between Fsindel -+ PFS time is: \", p)\n",
    "print(\"median PFS length for FS-A: \", np.median(data[data[\"Fsindel\"] == 0][\"Treatment_Length\"]))\n",
    "print(\"median PFS length for FS-P: \", np.median(data[data[\"Fsindel\"] == 1][\"Treatment_Length\"]))\n",
    "\n",
    "#Let's do t test of OS length and Fsindel\n",
    "stat, p = (ttest_ind( data[data[\"Fsindel\"] == 0][\"OS_Length\"], data[data[\"Fsindel\"] == 1][\"OS_Length\"], equal_var=False))\n",
    "p = round(p,4)\n",
    "print(\"P value between Fsindel -+ OS time is: \", p)\n",
    "print(\"median OS length for FS-A: \", np.median(data[data[\"Fsindel\"] == 0][\"OS_Length\"]))\n",
    "print(\"median OS length for FS-P: \", np.median(data[data[\"Fsindel\"] == 1][\"OS_Length\"]))\n",
    "\n",
    "#Let's do t test of treatment length and mutation burden \n",
    "stat, p = (ttest_ind(data[data[\"TMB\"]==\"TMB-L\"][\"Treatment_Length\"], data[data[\"TMB\"]==\"TMB-H\"][\"Treatment_Length\"], equal_var=False))\n",
    "p = round(p,4)\n",
    "print(\"P value between TMB L/H PFS time is: \", p)\n",
    "print(\"median PFS length for TMB-L: \", np.median(data[data[\"TMB\"]==\"TMB-L\"][\"Treatment_Length\"]))\n",
    "print(\"median PFS length for TMB-H: \", np.median(data[data[\"TMB\"]==\"TMB-H\"][\"Treatment_Length\"]))\n",
    "\n",
    "#Let's do t test of OS treatment length and mutation burden\n",
    "stat, p = (ttest_ind(data[data[\"TMB\"]==\"TMB-L\"][\"OS_Length\"], data[data[\"TMB\"]==\"TMB-H\"][\"OS_Length\"], equal_var=False))\n",
    "p = round(p,4)\n",
    "print(\"P value between TMB L/H OS time is: \", p)\n",
    "print(\"median OS length for TMB-L: \", np.median(data[data[\"TMB\"]==\"TMB-L\"][\"OS_Length\"]))\n",
    "print(\"median OS length for TMB-H: \", np.median(data[data[\"TMB\"]==\"TMB-H\"][\"OS_Length\"]))\n",
    "\n",
    "\n",
    "#Let's do t test of treatment length and mono/dual tx\n",
    "stat, p = (ttest_ind(data[data[\"tx\"]==\"mono\"][\"Treatment_Length\"], data[data[\"tx\"]==\"dual\"][\"Treatment_Length\"], equal_var=False))\n",
    "p = round(p,4)\n",
    "print(\"P value between mono/dual tx PFS time is: \", p)\n",
    "print(\"median PFS length for mono tx is: \", np.median(data[data[\"tx\"]==\"mono\"][\"Treatment_Length\"]))\n",
    "print(\"median PFS length for dual tx is:\", np.median(data[data[\"tx\"]==\"dual\"][\"Treatment_Length\"]))\n",
    "\n",
    "#Let's do t test of OS treatment length and mono/dual tx\n",
    "stat, p = (ttest_ind(data[data[\"tx\"]==\"mono\"][\"OS_Length\"], data[data[\"tx\"]==\"dual\"][\"OS_Length\"], equal_var=False))\n",
    "p = round(p,4)\n",
    "print(\"P value between mono/dual tx OS time is: \", p)\n",
    "print(\"median OS length for mono tx is: \", np.median(data[data[\"tx\"]==\"mono\"][\"OS_Length\"]))\n",
    "print(\"median OS length for dual tx is:\", np.median(data[data[\"tx\"]==\"dual\"][\"OS_Length\"]))\n",
    "\n",
    "#Let's t test of PFS and previous sys tx\n",
    "stat, p = (ttest_ind(data[data[\"# of previous Sys Tx \"]==\"yes\"][\"Treatment_Length\"], data[data[\"# of previous Sys Tx \"]==\"no\"][\"Treatment_Length\"], equal_var=False))\n",
    "p = round(p,4)\n",
    "print(\"P value between previous sys tx PFS time is: \", p)\n",
    "print(\"median PFS length for no previous tx is: \", np.median(data[data[\"# of previous Sys Tx \"]==\"no\"][\"Treatment_Length\"]))\n",
    "print(\"median PFS length for previous tx is:, \", np.median(data[data[\"# of previous Sys Tx \"]==\"yes\"][\"Treatment_Length\"]))\n",
    "\n",
    "#Let's t test of OS and previous sys tx\n",
    "stat, p = (ttest_ind(data[data[\"# of previous Sys Tx \"]==\"yes\"][\"OS_Length\"], data[data[\"# of previous Sys Tx \"]==\"no\"][\"OS_Length\"], equal_var=False))\n",
    "p = round(p,4)\n",
    "print(\"P value between previous sys tx OS time is: \", p)\n",
    "print(\"median OS length for no previous tx is: \", np.median(data[data[\"# of previous Sys Tx \"]==\"no\"][\"OS_Length\"]))\n",
    "print(\"median OS length for previous tx is:, \", np.median(data[data[\"# of previous Sys Tx \"]==\"yes\"][\"OS_Length\"]))\n",
    "\n",
    "\n",
    "\n",
    "\n",
    "\n"
   ]
  },
  {
   "cell_type": "code",
   "execution_count": 167,
   "metadata": {},
   "outputs": [
    {
     "name": "stdout",
     "output_type": "stream",
     "text": [
      "The p value of the chi square of response and mono/dual tx is: 0.215\n",
      "Response rate for mono tx is: 15.7%\n",
      "Response rate for dual tx is: 24.5%\n",
      "The p value of the chi square of response rate and previous systemic treatment is: 0.135\n",
      "Response rate for no previous systemic treatment is: 24.6%\n",
      "Response rate for previous systemic treatment is: 15.0%\n",
      "The p value of the chi square of response rate and mutation burden is: 0.000166\n",
      "Response rate for low mutation burden is: 10.2%\n",
      "Response rate for high mutation burden is: 32.0%\n",
      "The p value of the chi square of response rate and Fsi is: 0.057\n",
      "Response rate for Fsi is: 24.0%\n",
      "Response rate for no Fsi is: 12.9%\n"
     ]
    }
   ],
   "source": [
    "### Chi squared tests ###\n",
    "\n",
    "#Let's perform a chi-squared test to see if there is a significant difference in response between the tx groups\n",
    "from scipy.stats import chi2_contingency\n",
    "from scipy.stats import chi2\n",
    "\n",
    "# Response\n",
    "table = pd.crosstab(data[\"12_week_response\"], data[\"tx\"])\n",
    "stat, p, dof, expected = chi2_contingency(table)\n",
    "print(\"The p value of the chi square of response and mono/dual tx is: \" + str(round(p,3)))\n",
    "\n",
    "#Print response rate for mono and dual tx\n",
    "print(\"Response rate for mono tx is: \" + str(round(100*data[data[\"tx\"]==\"mono\"][\"12_week_response\"].value_counts(normalize=True)[1],1)) + \"%\")\n",
    "print(\"Response rate for dual tx is: \" + str(round(100*data[data[\"tx\"]==\"dual\"][\"12_week_response\"].value_counts(normalize=True)[1],1)) + \"%\")\n",
    "\n",
    "\n",
    "# Previous systemic treatments and response\n",
    "table = pd.crosstab(data[\"12_week_response\"], data[\"# of previous Sys Tx \"])\n",
    "stat, p, dof, expected = chi2_contingency(table)\n",
    "print(\"The p value of the chi square of response rate and previous systemic treatment is: \" + str(round(p,3)))\n",
    "\n",
    "#Print response rate for previous systemic treatment\n",
    "print(\"Response rate for no previous systemic treatment is: \" + str(round(100*data[data[\"# of previous Sys Tx \"]==\"no\"][\"12_week_response\"].value_counts(normalize=True)[1],1)) + \"%\")\n",
    "print(\"Response rate for previous systemic treatment is: \" + str(round(100*data[data[\"# of previous Sys Tx \"]==\"yes\"][\"12_week_response\"].value_counts(normalize=True)[1],1)) + \"%\")\n",
    "\n",
    "#Mutation burden and response\n",
    "table = pd.crosstab(data[\"12_week_response\"], data[\"TMB\"])\n",
    "stat, p, dof, expected = chi2_contingency(table)\n",
    "print(\"The p value of the chi square of response rate and mutation burden is: \" + str(round(p,6)))\n",
    "\n",
    "#Print response rate for mutation burden\n",
    "print(\"Response rate for low mutation burden is: \" + str(round(100*data[data[\"TMB\"]==\"TMB-L\"][\"12_week_response\"].value_counts(normalize=True)[1],1)) + \"%\")\n",
    "print(\"Response rate for high mutation burden is: \" + str(round(100*data[data[\"TMB\"]==\"TMB-H\"][\"12_week_response\"].value_counts(normalize=True)[1],1)) + \"%\")\n",
    "\n",
    "#Fsi and response\n",
    "table = pd.crosstab(data[\"12_week_response\"], data[\"Fsindel\"])\n",
    "stat, p, dof, expected = chi2_contingency(table)\n",
    "\n",
    "print(\"The p value of the chi square of response rate and Fsi is: \" + str(round(p,3)))\n",
    "\n",
    "#Print response rate for Fsi\n",
    "print(\"Response rate for no Fsi is: \" + str(round(100*data[data[\"Fsindel\"]==0][\"12_week_response\"].value_counts(normalize=True)[1],1)) + \"%\")\n",
    "print(\"Response rate for Fsi is: \" + str(round(100*data[data[\"Fsindel\"]==1][\"12_week_response\"].value_counts(normalize=True)[1],1)) + \"%\")\n",
    "\n",
    "\n",
    "\n"
   ]
  },
  {
   "cell_type": "code",
   "execution_count": 181,
   "metadata": {},
   "outputs": [
    {
     "name": "stdout",
     "output_type": "stream",
     "text": [
      "ANOVA for ICI Doses:\n",
      "F-statistic: 2.622\n",
      "p-value: 0.052\n",
      "ANOVA for Age at diagnosis:\n",
      "F-statistic: 5.393\n",
      "p-value: 0.001\n",
      "ANOVA for ECOG:\n",
      "F-statistic: 1.365\n",
      "p-value: 0.254\n"
     ]
    }
   ],
   "source": [
    "### ANOVA Analyses ###\n",
    "import scipy.stats as stats\n",
    "from scipy.stats import f_oneway\n",
    "\n",
    "#ICI Doses\n",
    "statistic, p_value = stats.f_oneway(data[(data[\"Fsindel\"]==0) & (data[\"TMB\"] == \"TMB-L\")][\"#ICI doses\"], data[(data[\"Fsindel\"]==0) & (data[\"TMB\"] == \"TMB-H\")][\"#ICI doses\"], data[(data[\"Fsindel\"]==1) & (data[\"TMB\"] == \"TMB-L\")][\"#ICI doses\"], data[(data[\"Fsindel\"]==1) & (data[\"TMB\"] == \"TMB-H\")][\"#ICI doses\"])\n",
    "\n",
    "print(\"ANOVA for ICI Doses:\")\n",
    "print(\"F-statistic:\", round(statistic, 3))\n",
    "print(\"p-value:\", round(p_value, 3))\n",
    "\n",
    "#Age at diagnosis\n",
    "statistic, p_value = stats.f_oneway(data[(data[\"Fsindel\"]==0) & (data[\"TMB\"] == \"TMB-L\")][\"Age at Tx\"], data[(data[\"Fsindel\"]==0) & (data[\"TMB\"] == \"TMB-H\")][\"Age at Tx\"], data[(data[\"Fsindel\"]==1) & (data[\"TMB\"] == \"TMB-L\")][\"Age at Tx\"], data[(data[\"Fsindel\"]==1) & (data[\"TMB\"] == \"TMB-H\")][\"Age at Tx\"])\n",
    "\n",
    "print(\"ANOVA for Age at diagnosis:\")\n",
    "print(\"F-statistic:\", round(statistic, 3))\n",
    "print(\"p-value:\", round(p_value, 3))\n",
    "\n",
    "#ECOG\n",
    "#Remove the one patient with NA for ECOG\n",
    "data_1 = data[data[\"ECOG\"] >= 0]\n",
    "statistic, p_value = stats.f_oneway(data_1[(data_1[\"Fsindel\"]==0) & (data_1[\"TMB\"] == \"TMB-L\")][\"ECOG\"], data_1[(data_1[\"Fsindel\"]==0) & (data_1[\"TMB\"] == \"TMB-H\")][\"ECOG\"], data_1[(data_1[\"Fsindel\"]==1) & (data_1[\"TMB\"] == \"TMB-L\")][\"ECOG\"], data_1[(data_1[\"Fsindel\"]==1) & (data_1[\"TMB\"] == \"TMB-H\")][\"ECOG\"])\n",
    "\n",
    "print(\"ANOVA for ECOG:\")\n",
    "print(\"F-statistic:\", round(statistic, 3))\n",
    "print(\"p-value:\", round(p_value, 3))\n",
    "\n",
    "\n",
    "\n",
    "\n",
    "\n",
    "\n"
   ]
  },
  {
   "cell_type": "code",
   "execution_count": 206,
   "metadata": {},
   "outputs": [
    {
     "name": "stdout",
     "output_type": "stream",
     "text": [
      "Chi-square for Race:\n",
      "p-value: 0.775\n",
      "Chi-square for Previous Tx:\n",
      "p-value: 0.274\n",
      "Chi-square for Microsatellite status:\n",
      "p-value: 7.818813228498543e-11\n",
      "All of these are in the TMB-H, FS-P\n",
      "Chi-square for Diagnosis:\n",
      "p-value: 0.021\n",
      "Chi-square for Gender:\n",
      "p-value: 0.516\n"
     ]
    }
   ],
   "source": [
    "### Large Chi Squared Analysis ###\n",
    "\n",
    "#Let's see if race 'Race (1: White, 2: Black, 3: Hispanic, 4: Asian, 5: others/unknown)' and genomic group (TMB/Fsindel) are independent\n",
    "\n",
    "#First, let's create a new column that combines TMB and Fsindel\n",
    "data[\"TMB_Fsindel\"] = data[\"TMB\"] + \"_\" + data[\"Fsindel\"].astype(str)\n",
    "\n",
    "#Race and genomic group\n",
    "#Now, let's create a contingency table\n",
    "c_table = pd.crosstab(index=data[\"Race (1: White, 2: Black, 3: Hispanic, 4: Asian, 5: others/unknown)\"],columns=data[\"TMB_Fsindel\"])\n",
    "\n",
    "# Perform the chi-square test\n",
    "chi2_stat, p_value, dof, expected = stats.chi2_contingency(c_table)\n",
    "\n",
    "# Print the results\n",
    "print(\"Chi-square for Race:\")\n",
    "print(\"p-value:\", round(p_value,3))\n",
    "\n",
    "#Previous tx and genomic group\n",
    "#Now, let's create a contingency table\n",
    "c_table = pd.crosstab(index=data[\"# of previous Sys Tx \"],columns=data[\"TMB_Fsindel\"])\n",
    "\n",
    "# Perform the chi-square test\n",
    "chi2_stat, p_value, dof, expected = stats.chi2_contingency(c_table)\n",
    "\n",
    "# Print the results\n",
    "print(\"Chi-square for Previous Tx:\")\n",
    "print(\"p-value:\", round(p_value,3))\n",
    "\n",
    "#Microsatellite status and genomic group\n",
    "#Now, let's create a contingency table\n",
    "c_table = pd.crosstab(index=data['MS MS (0: MSS, 1: MSI)'],columns=data[\"TMB_Fsindel\"])\n",
    "\n",
    "# Perform the chi-square test\n",
    "chi2_stat, p_value, dof, expected = stats.chi2_contingency(c_table)\n",
    "\n",
    "# Print the results\n",
    "print(\"Chi-square for Microsatellite status:\")\n",
    "print(\"p-value:\", p_value)\n",
    "print(\"All of these are in the TMB-H, FS-P\")\n",
    "\n",
    "#Disease site and genomic group\n",
    "#Now, let's create a contingency table\n",
    "c_table = pd.crosstab(index=data['Specific Diagnosis'],columns=data[\"TMB_Fsindel\"])\n",
    "\n",
    "# Perform the chi-square test\n",
    "chi2_stat, p_value, dof, expected = stats.chi2_contingency(c_table)\n",
    "\n",
    "# Print the results\n",
    "print(\"Chi-square for Diagnosis:\")\n",
    "print(\"p-value:\", round(p_value,3))\n",
    "\n",
    "#Gender and genomic group\n",
    "#Now, let's create a contingency table\n",
    "c_table = pd.crosstab(index=data['Sex (1:M, 2:F)'],columns=data[\"TMB_Fsindel\"])\n",
    "\n",
    "# Perform the chi-square test\n",
    "chi2_stat, p_value, dof, expected = stats.chi2_contingency(c_table)\n",
    "\n",
    "# Print the results\n",
    "print(\"Chi-square for Gender:\")\n",
    "print(\"p-value:\", round(p_value,3))\n",
    "\n",
    "\n",
    "\n"
   ]
  }
 ],
 "metadata": {
  "kernelspec": {
   "display_name": "inherentbio",
   "language": "python",
   "name": "python3"
  },
  "language_info": {
   "codemirror_mode": {
    "name": "ipython",
    "version": 3
   },
   "file_extension": ".py",
   "mimetype": "text/x-python",
   "name": "python",
   "nbconvert_exporter": "python",
   "pygments_lexer": "ipython3",
   "version": "3.9.12"
  },
  "orig_nbformat": 4
 },
 "nbformat": 4,
 "nbformat_minor": 2
}
